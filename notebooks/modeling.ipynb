{
 "cells": [
  {
   "cell_type": "code",
   "execution_count": 1,
   "metadata": {},
   "outputs": [],
   "source": [
    "import sys\n",
    "import os\n",
    "import missingno as msno\n",
    "import logging\n",
    "import matplotlib.pyplot as plt\n",
    "import pandas as pd\n",
    "import seaborn as sns\n",
    "\n",
    "sns.set_style(\"darkgrid\")\n",
    "%matplotlib inline\n",
    "\n",
    "import warnings\n",
    "warnings.filterwarnings(\"ignore\")\n",
    "\n",
    "sys.path.append(os.path.abspath(os.path.join(\"../scripts\"))) \n",
    "from clean import dataCleaning"
   ]
  },
  {
   "cell_type": "code",
   "execution_count": 2,
   "metadata": {},
   "outputs": [],
   "source": [
    "logging.basicConfig(filename='../exploration_logfile.log', filemode='a',\n",
    "                    encoding='utf-8', level=logging.DEBUG)"
   ]
  },
  {
   "cell_type": "code",
   "execution_count": 3,
   "metadata": {},
   "outputs": [],
   "source": [
    "import dvc.api\n",
    "import io\n",
    "\n",
    "path = 'data/train_data.csv'\n",
    "repo = './'\n",
    "version='v2.1'\n",
    "\n",
    "data_url = dvc.api.get_url(\n",
    "    path=path,\n",
    "\trepo=repo,\n",
    "\trev=version\n",
    "\t)\n",
    "\n",
    "train = pd.read_csv(data_url, sep=\",\")\n",
    "train = dataCleaning(train).cleanStateHoliday2()"
   ]
  },
  {
   "cell_type": "code",
   "execution_count": 4,
   "metadata": {},
   "outputs": [],
   "source": [
    "import dvc.api\n",
    "import io\n",
    "\n",
    "path = 'data/test_data.csv'\n",
    "repo = './'\n",
    "version='vt.2.1'\n",
    "\n",
    "data_url = dvc.api.get_url(\n",
    "    path=path,\n",
    "\trepo=repo,\n",
    "\trev=version\n",
    "\t)\n",
    "\n",
    "test = pd.read_csv(data_url, sep=\",\")\n",
    "test = dataCleaning(test).cleanStateHoliday2()"
   ]
  },
  {
   "cell_type": "code",
   "execution_count": 5,
   "metadata": {},
   "outputs": [
    {
     "name": "stdout",
     "output_type": "stream",
     "text": [
      "Index(['Date', 'Store', 'DayOfWeek', 'Sales', 'Promo', 'StateHoliday',\n",
      "       'SchoolHoliday', 'Year', 'Month', 'Day', 'WeekOfYear', 'StoreType',\n",
      "       'Assortment', 'CompetitionDistance', 'CompetitionOpenSinceMonth',\n",
      "       'CompetitionOpenSinceYear', 'Promo2', 'Promo2SinceWeek',\n",
      "       'Promo2SinceYear', 'PromoInterval', 'WeekDays', 'WeekEnds', 'IsHoliday',\n",
      "       'PromoPerCompetitionDistance', 'Promo2PerCompetitionDistance',\n",
      "       'BeginMonth', 'MidMonth', 'EndMonth'],\n",
      "      dtype='object')\n",
      "----------------------------------------------\n",
      "Index(['Store', 'DayOfWeek', 'Promo', 'StateHoliday', 'SchoolHoliday',\n",
      "       'StoreType', 'Assortment', 'CompetitionDistance',\n",
      "       'CompetitionOpenSinceMonth', 'CompetitionOpenSinceYear', 'Promo2',\n",
      "       'Promo2SinceWeek', 'Promo2SinceYear', 'PromoInterval', 'WeekDays',\n",
      "       'WeekEnds', 'IsHoliday', 'PromoPerCompetitionDistance',\n",
      "       'Promo2PerCompetitionDistance'],\n",
      "      dtype='object')\n"
     ]
    }
   ],
   "source": [
    "print(train.columns)\n",
    "print('----------------------------------------------')\n",
    "print(test.columns)"
   ]
  },
  {
   "cell_type": "code",
   "execution_count": 6,
   "metadata": {},
   "outputs": [
    {
     "data": {
      "text/html": [
       "<div>\n",
       "<style scoped>\n",
       "    .dataframe tbody tr th:only-of-type {\n",
       "        vertical-align: middle;\n",
       "    }\n",
       "\n",
       "    .dataframe tbody tr th {\n",
       "        vertical-align: top;\n",
       "    }\n",
       "\n",
       "    .dataframe thead th {\n",
       "        text-align: right;\n",
       "    }\n",
       "</style>\n",
       "<table border=\"1\" class=\"dataframe\">\n",
       "  <thead>\n",
       "    <tr style=\"text-align: right;\">\n",
       "      <th></th>\n",
       "      <th>Date</th>\n",
       "      <th>Store</th>\n",
       "      <th>DayOfWeek</th>\n",
       "      <th>Sales</th>\n",
       "      <th>Promo</th>\n",
       "      <th>StateHoliday</th>\n",
       "      <th>SchoolHoliday</th>\n",
       "      <th>Year</th>\n",
       "      <th>Month</th>\n",
       "      <th>Day</th>\n",
       "      <th>...</th>\n",
       "      <th>Promo2SinceYear</th>\n",
       "      <th>PromoInterval</th>\n",
       "      <th>WeekDays</th>\n",
       "      <th>WeekEnds</th>\n",
       "      <th>IsHoliday</th>\n",
       "      <th>PromoPerCompetitionDistance</th>\n",
       "      <th>Promo2PerCompetitionDistance</th>\n",
       "      <th>BeginMonth</th>\n",
       "      <th>MidMonth</th>\n",
       "      <th>EndMonth</th>\n",
       "    </tr>\n",
       "  </thead>\n",
       "  <tbody>\n",
       "    <tr>\n",
       "      <th>844333</th>\n",
       "      <td>2015-07-31</td>\n",
       "      <td>612</td>\n",
       "      <td>5</td>\n",
       "      <td>8161</td>\n",
       "      <td>1</td>\n",
       "      <td>0</td>\n",
       "      <td>0</td>\n",
       "      <td>2015</td>\n",
       "      <td>7</td>\n",
       "      <td>31</td>\n",
       "      <td>...</td>\n",
       "      <td>2009.0</td>\n",
       "      <td>Jan,Apr,Jul,Oct</td>\n",
       "      <td>1</td>\n",
       "      <td>0</td>\n",
       "      <td>0</td>\n",
       "      <td>5429.265711</td>\n",
       "      <td>4096.150745</td>\n",
       "      <td>0</td>\n",
       "      <td>0</td>\n",
       "      <td>1</td>\n",
       "    </tr>\n",
       "    <tr>\n",
       "      <th>844334</th>\n",
       "      <td>2015-07-31</td>\n",
       "      <td>235</td>\n",
       "      <td>5</td>\n",
       "      <td>6756</td>\n",
       "      <td>1</td>\n",
       "      <td>0</td>\n",
       "      <td>1</td>\n",
       "      <td>2015</td>\n",
       "      <td>7</td>\n",
       "      <td>31</td>\n",
       "      <td>...</td>\n",
       "      <td>2009.0</td>\n",
       "      <td>Jan,Apr,Jul,Oct</td>\n",
       "      <td>1</td>\n",
       "      <td>0</td>\n",
       "      <td>0</td>\n",
       "      <td>5429.265711</td>\n",
       "      <td>9701.437949</td>\n",
       "      <td>0</td>\n",
       "      <td>0</td>\n",
       "      <td>1</td>\n",
       "    </tr>\n",
       "    <tr>\n",
       "      <th>844335</th>\n",
       "      <td>2015-07-31</td>\n",
       "      <td>1078</td>\n",
       "      <td>5</td>\n",
       "      <td>9732</td>\n",
       "      <td>1</td>\n",
       "      <td>0</td>\n",
       "      <td>1</td>\n",
       "      <td>2015</td>\n",
       "      <td>7</td>\n",
       "      <td>31</td>\n",
       "      <td>...</td>\n",
       "      <td>2011.0</td>\n",
       "      <td>Jan,Apr,Jul,Oct</td>\n",
       "      <td>1</td>\n",
       "      <td>0</td>\n",
       "      <td>0</td>\n",
       "      <td>5429.265711</td>\n",
       "      <td>2253.297998</td>\n",
       "      <td>0</td>\n",
       "      <td>0</td>\n",
       "      <td>1</td>\n",
       "    </tr>\n",
       "    <tr>\n",
       "      <th>844336</th>\n",
       "      <td>2015-07-31</td>\n",
       "      <td>845</td>\n",
       "      <td>5</td>\n",
       "      <td>5151</td>\n",
       "      <td>1</td>\n",
       "      <td>0</td>\n",
       "      <td>1</td>\n",
       "      <td>2015</td>\n",
       "      <td>7</td>\n",
       "      <td>31</td>\n",
       "      <td>...</td>\n",
       "      <td>2011.0</td>\n",
       "      <td>Jan,Apr,Jul,Oct</td>\n",
       "      <td>1</td>\n",
       "      <td>0</td>\n",
       "      <td>0</td>\n",
       "      <td>5429.265711</td>\n",
       "      <td>5617.897084</td>\n",
       "      <td>0</td>\n",
       "      <td>0</td>\n",
       "      <td>1</td>\n",
       "    </tr>\n",
       "    <tr>\n",
       "      <th>844337</th>\n",
       "      <td>2015-07-31</td>\n",
       "      <td>1</td>\n",
       "      <td>5</td>\n",
       "      <td>5263</td>\n",
       "      <td>1</td>\n",
       "      <td>0</td>\n",
       "      <td>1</td>\n",
       "      <td>2015</td>\n",
       "      <td>7</td>\n",
       "      <td>31</td>\n",
       "      <td>...</td>\n",
       "      <td>0.0</td>\n",
       "      <td>0</td>\n",
       "      <td>1</td>\n",
       "      <td>0</td>\n",
       "      <td>0</td>\n",
       "      <td>5429.265711</td>\n",
       "      <td>6549.550665</td>\n",
       "      <td>0</td>\n",
       "      <td>0</td>\n",
       "      <td>1</td>\n",
       "    </tr>\n",
       "  </tbody>\n",
       "</table>\n",
       "<p>5 rows × 28 columns</p>\n",
       "</div>"
      ],
      "text/plain": [
       "              Date  Store  DayOfWeek  Sales  Promo StateHoliday  \\\n",
       "844333  2015-07-31    612          5   8161      1            0   \n",
       "844334  2015-07-31    235          5   6756      1            0   \n",
       "844335  2015-07-31   1078          5   9732      1            0   \n",
       "844336  2015-07-31    845          5   5151      1            0   \n",
       "844337  2015-07-31      1          5   5263      1            0   \n",
       "\n",
       "        SchoolHoliday  Year  Month  Day  ...  Promo2SinceYear  \\\n",
       "844333              0  2015      7   31  ...           2009.0   \n",
       "844334              1  2015      7   31  ...           2009.0   \n",
       "844335              1  2015      7   31  ...           2011.0   \n",
       "844336              1  2015      7   31  ...           2011.0   \n",
       "844337              1  2015      7   31  ...              0.0   \n",
       "\n",
       "          PromoInterval WeekDays  WeekEnds  IsHoliday  \\\n",
       "844333  Jan,Apr,Jul,Oct        1         0          0   \n",
       "844334  Jan,Apr,Jul,Oct        1         0          0   \n",
       "844335  Jan,Apr,Jul,Oct        1         0          0   \n",
       "844336  Jan,Apr,Jul,Oct        1         0          0   \n",
       "844337                0        1         0          0   \n",
       "\n",
       "        PromoPerCompetitionDistance  Promo2PerCompetitionDistance  BeginMonth  \\\n",
       "844333                  5429.265711                   4096.150745           0   \n",
       "844334                  5429.265711                   9701.437949           0   \n",
       "844335                  5429.265711                   2253.297998           0   \n",
       "844336                  5429.265711                   5617.897084           0   \n",
       "844337                  5429.265711                   6549.550665           0   \n",
       "\n",
       "        MidMonth EndMonth  \n",
       "844333         0        1  \n",
       "844334         0        1  \n",
       "844335         0        1  \n",
       "844336         0        1  \n",
       "844337         0        1  \n",
       "\n",
       "[5 rows x 28 columns]"
      ]
     },
     "execution_count": 6,
     "metadata": {},
     "output_type": "execute_result"
    }
   ],
   "source": [
    "train.tail()"
   ]
  },
  {
   "cell_type": "code",
   "execution_count": 7,
   "metadata": {},
   "outputs": [
    {
     "name": "stderr",
     "output_type": "stream",
     "text": [
      "15:57:49 - cmdstanpy - INFO - Chain [1] start processing\n",
      "15:57:49 - cmdstanpy - INFO - Chain [1] done processing\n"
     ]
    }
   ],
   "source": [
    "### Create date for test\n",
    "dat = test[test['Store'] == 1]\n",
    "from prophet import Prophet\n",
    "touse = pd.DataFrame(columns=['ds', 'y'])\n",
    "touse['ds'] = train[train['Store'] == 1]['Date']\n",
    "touse['y'] = train[train['Store'] == 1]['Sales']\n",
    "m = Prophet(interval_width=0.95,yearly_seasonality=True)\n",
    "m.fit(touse)\n",
    "testsdate = m.make_future_dataframe(periods=40)\n",
    "testsdate = testsdate.tail(41)"
   ]
  },
  {
   "cell_type": "code",
   "execution_count": 8,
   "metadata": {},
   "outputs": [
    {
     "data": {
      "text/plain": [
       "Date                             object\n",
       "Store                             int64\n",
       "DayOfWeek                         int64\n",
       "Sales                             int64\n",
       "Promo                             int64\n",
       "StateHoliday                     object\n",
       "SchoolHoliday                     int64\n",
       "Year                              int64\n",
       "Month                             int64\n",
       "Day                               int64\n",
       "WeekOfYear                        int64\n",
       "StoreType                        object\n",
       "Assortment                       object\n",
       "CompetitionDistance             float64\n",
       "CompetitionOpenSinceMonth       float64\n",
       "CompetitionOpenSinceYear        float64\n",
       "Promo2                            int64\n",
       "Promo2SinceWeek                 float64\n",
       "Promo2SinceYear                 float64\n",
       "PromoInterval                    object\n",
       "WeekDays                          int64\n",
       "WeekEnds                          int64\n",
       "IsHoliday                         int64\n",
       "PromoPerCompetitionDistance     float64\n",
       "Promo2PerCompetitionDistance    float64\n",
       "BeginMonth                        int64\n",
       "MidMonth                          int64\n",
       "EndMonth                          int64\n",
       "dtype: object"
      ]
     },
     "execution_count": 8,
     "metadata": {},
     "output_type": "execute_result"
    }
   ],
   "source": [
    "train.dtypes"
   ]
  },
  {
   "cell_type": "code",
   "execution_count": 9,
   "metadata": {},
   "outputs": [],
   "source": [
    "from sklearn.pipeline import make_pipeline\n",
    "from sklearn.preprocessing import StandardScaler\n",
    "from sklearn.compose import make_column_transformer\n",
    "from sklearn.preprocessing import OneHotEncoder\n",
    "from sklearn.preprocessing import MinMaxScaler\n",
    "\n",
    "from sklearn.ensemble import RandomForestRegressor\n",
    "from sklearn.ensemble import GradientBoostingRegressor\n",
    "from xgboost.sklearn import XGBRegressor\n",
    "from sklearn.linear_model import SGDRegressor\n",
    "from sklearn.svm import SVR\n",
    "from catboost import CatBoostRegressor\n",
    "from sklearn.linear_model import BayesianRidge\n",
    "from sklearn.kernel_ridge import KernelRidge\n",
    "from sklearn.linear_model import ElasticNet\n",
    "from sklearn.linear_model import LinearRegression\n",
    "from sklearn.tree import DecisionTreeRegressor\n",
    "from sklearn.neighbors import KNeighborsRegressor\n",
    "\n",
    "from sklearn.metrics import accuracy_score, mean_squared_error"
   ]
  },
  {
   "cell_type": "code",
   "execution_count": 10,
   "metadata": {},
   "outputs": [],
   "source": [
    "categorical_features = ['StateHoliday', 'StoreType', 'Assortment', 'PromoInterval']\n",
    "numerical_features = ['CompetitionDistance', 'CompetitionOpenSinceMonth',\n",
    "       'CompetitionOpenSinceYear', 'Promo2SinceWeek',\n",
    "       'Promo2SinceYear', 'PromoPerCompetitionDistance', 'Promo2PerCompetitionDistance', 'DayOfWeek', 'Year', 'Month', 'Day', 'WeekOfYear']\n",
    "# catego_to_main = ['Promo', 'SchoolHoliday', 'Promo2', 'WeekDays',\n",
    "#        'WeekEnds', 'IsHoliday', 'BeginMonth', 'MidMonth', 'EndMonth']\n",
    "\n",
    " \n",
    "\n",
    "numerical_action = make_pipeline(StandardScaler())\n",
    "categorical_action = make_pipeline(OneHotEncoder())\n",
    "\n",
    "preprocessor = make_column_transformer((numerical_action, numerical_features), (categorical_action, categorical_features))\n",
    "\n",
    "models = {'RandomForest': RandomForestRegressor(), 'GradientBoost': GradientBoostingRegressor(), 'XGB': XGBRegressor(), 'SGD': SGDRegressor(), 'SVR': SVR(), 'CatBoost': CatBoostRegressor(),\n",
    " 'BayesianRidge': BayesianRidge(), 'KernelRidge': KernelRidge(), 'ElasticNet': ElasticNet(), 'LinearRegression': LinearRegression(), 'DecisionTree': DecisionTreeRegressor(), 'KNeighbors': KNeighborsRegressor()}"
   ]
  },
  {
   "cell_type": "code",
   "execution_count": 11,
   "metadata": {},
   "outputs": [
    {
     "data": {
      "text/plain": [
       "12"
      ]
     },
     "execution_count": 11,
     "metadata": {},
     "output_type": "execute_result"
    }
   ],
   "source": [
    "len(models)"
   ]
  },
  {
   "cell_type": "code",
   "execution_count": 12,
   "metadata": {},
   "outputs": [],
   "source": [
    "X = train.drop(['Date', 'Sales', 'Store'], axis=1)\n",
    "y = train['Sales']\n",
    "\n",
    "\n",
    "from sklearn.model_selection import train_test_split\n",
    "X_train, X_test, y_train, y_test = train_test_split(X, y, test_size=0.1, random_state=0)\n",
    "\n",
    "\n",
    "import numpy as np"
   ]
  },
  {
   "cell_type": "code",
   "execution_count": 13,
   "metadata": {},
   "outputs": [
    {
     "data": {
      "text/plain": [
       "Index(['DayOfWeek', 'Promo', 'StateHoliday', 'SchoolHoliday', 'Year', 'Month',\n",
       "       'Day', 'WeekOfYear', 'StoreType', 'Assortment', 'CompetitionDistance',\n",
       "       'CompetitionOpenSinceMonth', 'CompetitionOpenSinceYear', 'Promo2',\n",
       "       'Promo2SinceWeek', 'Promo2SinceYear', 'PromoInterval', 'WeekDays',\n",
       "       'WeekEnds', 'IsHoliday', 'PromoPerCompetitionDistance',\n",
       "       'Promo2PerCompetitionDistance', 'BeginMonth', 'MidMonth', 'EndMonth'],\n",
       "      dtype='object')"
      ]
     },
     "execution_count": 13,
     "metadata": {},
     "output_type": "execute_result"
    }
   ],
   "source": [
    "X_train.columns"
   ]
  },
  {
   "cell_type": "code",
   "execution_count": 14,
   "metadata": {},
   "outputs": [],
   "source": [
    "## Loss function\n",
    "def rmsle(ytest, yhat):\n",
    "    from sklearn.metrics import mean_squared_error\n",
    "    return np.sqrt(mean_squared_error(true, pred))\n"
   ]
  },
  {
   "cell_type": "code",
   "execution_count": 15,
   "metadata": {},
   "outputs": [
    {
     "data": {
      "text/plain": [
       "'RandomForest'"
      ]
     },
     "execution_count": 15,
     "metadata": {},
     "output_type": "execute_result"
    }
   ],
   "source": [
    "list(models.keys())[0]"
   ]
  },
  {
   "cell_type": "code",
   "execution_count": 16,
   "metadata": {},
   "outputs": [],
   "source": [
    "import pickle\n",
    "\n",
    "class Modeling():\n",
    "\n",
    "    def __init__(self, X_train, y_train, X_test, y_test):\n",
    "        self.X_train = X_train\n",
    "        self.y_train = y_train\n",
    "        self.X_test = X_test\n",
    "        self.y_test = y_test\n",
    "        self.models = {'RandomForest': RandomForestRegressor(), 'GradientBoost': GradientBoostingRegressor(),\n",
    "                      'XGB': XGBRegressor(), 'SGD': SGDRegressor(), 'SVR': SVR(), 'CatBoost': CatBoostRegressor(),\n",
    "                        'BayesianRidge': BayesianRidge(), 'KernelRidge': KernelRidge(), 'ElasticNet': ElasticNet(),\n",
    "                         'LinearRegression': LinearRegression(), 'DecisionTree': DecisionTreeRegressor(), 'KNeighbors': KNeighborsRegressor()}\n",
    "\n",
    "    def useModel(self, model_to_use: str, model_name: str):\n",
    "        model = make_pipeline(preprocessor, self.models[model_to_use])\n",
    "        model.fit(self.X_train, self.y_train)\n",
    "        yhat = model.predict(self.X_test)\n",
    "        error = rmsle(self.y_test, yhat)\n",
    "        \n",
    "        print('Train Score =', model.score(self.X_train, self.y_train))\n",
    "        print('Root Mean Square Error = ', round(error, 3))\n",
    "\n",
    "        #serialize\n",
    "        pickle.dump(model, open(model_name, 'wb'))\n",
    "\n",
    "        return model\n",
    "\n",
    "\n",
    "    def predict(self, model, test):\n",
    "        predictions = model.predict(test)\n",
    "        return predictions\n",
    "    "
   ]
  },
  {
   "cell_type": "code",
   "execution_count": 17,
   "metadata": {},
   "outputs": [],
   "source": [
    "## Test to predict: predicition for store == 1\n",
    "\n",
    "from xml.sax.xmlreader import IncrementalParser\n",
    "\n",
    "\n",
    "test_pred = test[test['Store'] == 1]\n",
    "test_pred['Date'] = list(testsdate['ds'])\n",
    "\n",
    "def newfeatures(df): \n",
    "    df.set_index('Date', inplace=True)\n",
    "    df['Year'] = df.index.year\n",
    "    df['Month'] = df.index.month\n",
    "    df['Day'] = df.index.day\n",
    "    df['WeekOfYear'] = df.index.weekofyear\n",
    "\n",
    "    df.reset_index(inplace=True)\n",
    "\n",
    "    df['BeginMonth'] = (((df['Day'])//7) == 0)*1\n",
    "    df['MidMonth'] = (((df['Day'])//10) == 1)*1\n",
    "    df['EndMonth'] = (((df['Day'])//7) >= 3)*1\n",
    "\n",
    "    \n",
    "    df.drop(['Date', 'Store'], axis=1)\n",
    "\n",
    "    return df\n",
    "\n",
    "test_pred = newfeatures(test_pred)"
   ]
  },
  {
   "cell_type": "code",
   "execution_count": 18,
   "metadata": {},
   "outputs": [],
   "source": [
    "store1 = test_pred.drop(['Date', 'Store'], axis=1)\n",
    "store1.to_csv('../data/store1.csv')"
   ]
  },
  {
   "cell_type": "markdown",
   "metadata": {},
   "source": [
    "### Modeling"
   ]
  },
  {
   "cell_type": "code",
   "execution_count": 19,
   "metadata": {},
   "outputs": [],
   "source": [
    "Model = Modeling(X_train, y_train, X_test, y_test)"
   ]
  },
  {
   "cell_type": "code",
   "execution_count": 20,
   "metadata": {},
   "outputs": [
    {
     "data": {
      "text/plain": [
       "{'RandomForest': RandomForestRegressor(),\n",
       " 'GradientBoost': GradientBoostingRegressor(),\n",
       " 'XGB': XGBRegressor(base_score=None, booster=None, callbacks=None,\n",
       "              colsample_bylevel=None, colsample_bynode=None,\n",
       "              colsample_bytree=None, early_stopping_rounds=None,\n",
       "              enable_categorical=False, eval_metric=None, gamma=None,\n",
       "              gpu_id=None, grow_policy=None, importance_type=None,\n",
       "              interaction_constraints=None, learning_rate=None, max_bin=None,\n",
       "              max_cat_to_onehot=None, max_delta_step=None, max_depth=None,\n",
       "              max_leaves=None, min_child_weight=None, missing=nan,\n",
       "              monotone_constraints=None, n_estimators=100, n_jobs=None,\n",
       "              num_parallel_tree=None, predictor=None, random_state=None,\n",
       "              reg_alpha=None, reg_lambda=None, ...),\n",
       " 'SGD': SGDRegressor(),\n",
       " 'SVR': SVR(),\n",
       " 'CatBoost': <catboost.core.CatBoostRegressor at 0x7fa084e77d90>,\n",
       " 'BayesianRidge': BayesianRidge(),\n",
       " 'KernelRidge': KernelRidge(),\n",
       " 'ElasticNet': ElasticNet(),\n",
       " 'LinearRegression': LinearRegression(),\n",
       " 'DecisionTree': DecisionTreeRegressor(),\n",
       " 'KNeighbors': KNeighborsRegressor()}"
      ]
     },
     "execution_count": 20,
     "metadata": {},
     "output_type": "execute_result"
    }
   ],
   "source": [
    "Model.models"
   ]
  },
  {
   "cell_type": "markdown",
   "metadata": {},
   "source": [
    "### Random Forest"
   ]
  },
  {
   "cell_type": "code",
   "execution_count": 21,
   "metadata": {},
   "outputs": [],
   "source": [
    "Model.useModel(model_to_use= 'RandomForest', model_name='09-09-2022-14-44-50-00-RandomForest.pkl')"
   ]
  },
  {
   "cell_type": "code",
   "execution_count": null,
   "metadata": {},
   "outputs": [],
   "source": []
  }
 ],
 "metadata": {
  "kernelspec": {
   "display_name": "Python 3.10.4 ('env': venv)",
   "language": "python",
   "name": "python3"
  },
  "language_info": {
   "codemirror_mode": {
    "name": "ipython",
    "version": 3
   },
   "file_extension": ".py",
   "mimetype": "text/x-python",
   "name": "python",
   "nbconvert_exporter": "python",
   "pygments_lexer": "ipython3",
   "version": "3.10.4"
  },
  "orig_nbformat": 4,
  "vscode": {
   "interpreter": {
    "hash": "7394965703c6cc27ee3a7f02f0128f748d1c4dc8f0ebc3648650780d85eaa532"
   }
  }
 },
 "nbformat": 4,
 "nbformat_minor": 2
}
